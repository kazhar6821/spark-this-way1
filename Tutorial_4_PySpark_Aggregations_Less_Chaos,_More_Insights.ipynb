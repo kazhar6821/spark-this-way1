{
  "nbformat": 4,
  "nbformat_minor": 0,
  "metadata": {
    "colab": {
      "provenance": [],
      "authorship_tag": "ABX9TyM4LmhtculSlEhkGh9Ouiys",
      "include_colab_link": true
    },
    "kernelspec": {
      "name": "python3",
      "display_name": "Python 3"
    },
    "language_info": {
      "name": "python"
    }
  },
  "cells": [
    {
      "cell_type": "markdown",
      "metadata": {
        "id": "view-in-github",
        "colab_type": "text"
      },
      "source": [
        "<a href=\"https://colab.research.google.com/github/kazhar6821/spark-this-way1/blob/main/Tutorial_4_PySpark_Aggregations_Less_Chaos%2C_More_Insights.ipynb\" target=\"_parent\"><img src=\"https://colab.research.google.com/assets/colab-badge.svg\" alt=\"Open In Colab\"/></a>"
      ]
    },
    {
      "cell_type": "code",
      "execution_count": 1,
      "metadata": {
        "id": "0rX0-NGm73Gh"
      },
      "outputs": [],
      "source": [
        "from pyspark.sql import SparkSession\n"
      ]
    },
    {
      "cell_type": "code",
      "source": [
        "spark=SparkSession.builder.appName('Agg').getOrCreate()\n"
      ],
      "metadata": {
        "id": "Z-ZC63lrJ4Wt"
      },
      "execution_count": 2,
      "outputs": []
    },
    {
      "cell_type": "code",
      "source": [
        "df_pyspark=spark.read.csv('test3.csv',header=True,inferSchema=True)\n"
      ],
      "metadata": {
        "id": "tjLBUzgqJ-e6"
      },
      "execution_count": 4,
      "outputs": []
    },
    {
      "cell_type": "code",
      "source": [
        "df_pyspark.show()\n"
      ],
      "metadata": {
        "colab": {
          "base_uri": "https://localhost:8080/"
        },
        "id": "nMHdCxpbKUGn",
        "outputId": "ff64fa9a-a001-4445-9a0c-b08d3b2897ab"
      },
      "execution_count": 5,
      "outputs": [
        {
          "output_type": "stream",
          "name": "stdout",
          "text": [
            "+---------+------------+------+\n",
            "|     Name| Departments|Salary|\n",
            "+---------+------------+------+\n",
            "|   Oliver|Data Science| 10000|\n",
            "|   Sophie|         IOT|  5000|\n",
            "|    Lukas|    Big Data|  4000|\n",
            "|     Emma|    Big Data|  4000|\n",
            "|     Noah|Data Science|  3000|\n",
            "| Isabella|Data Science| 20000|\n",
            "|     Liam|         IOT| 10000|\n",
            "|      Mia|    Big Data|  5000|\n",
            "|    Ethan|Data Science| 10000|\n",
            "|Charlotte|    Big Data|  2000|\n",
            "+---------+------------+------+\n",
            "\n"
          ]
        }
      ]
    },
    {
      "cell_type": "code",
      "source": [
        "df_pyspark.printSchema()\n"
      ],
      "metadata": {
        "colab": {
          "base_uri": "https://localhost:8080/"
        },
        "id": "D3sX1fecKVKE",
        "outputId": "fb9e1404-c6fd-4c2b-cea1-102067bcd953"
      },
      "execution_count": 6,
      "outputs": [
        {
          "output_type": "stream",
          "name": "stdout",
          "text": [
            "root\n",
            " |-- Name: string (nullable = true)\n",
            " |-- Departments: string (nullable = true)\n",
            " |-- Salary: integer (nullable = true)\n",
            "\n"
          ]
        }
      ]
    },
    {
      "cell_type": "code",
      "source": [
        "## Groupby\n",
        "### Grouped to find the maximum salary\n",
        "df_pyspark.groupBy('Name').sum().show()"
      ],
      "metadata": {
        "colab": {
          "base_uri": "https://localhost:8080/"
        },
        "id": "MsZqERVDKYVF",
        "outputId": "d9d4eddb-a095-4ee9-bbbf-e57101d02781"
      },
      "execution_count": 7,
      "outputs": [
        {
          "output_type": "stream",
          "name": "stdout",
          "text": [
            "+---------+-----------+\n",
            "|     Name|sum(Salary)|\n",
            "+---------+-----------+\n",
            "| Isabella|      20000|\n",
            "|     Noah|       3000|\n",
            "|    Ethan|      10000|\n",
            "|      Mia|       5000|\n",
            "|    Lukas|       4000|\n",
            "|   Sophie|       5000|\n",
            "|     Liam|      10000|\n",
            "|   Oliver|      10000|\n",
            "|     Emma|       4000|\n",
            "|Charlotte|       2000|\n",
            "+---------+-----------+\n",
            "\n"
          ]
        }
      ]
    },
    {
      "cell_type": "code",
      "source": [
        "df_pyspark.groupBy('Name').avg().show()\n"
      ],
      "metadata": {
        "colab": {
          "base_uri": "https://localhost:8080/"
        },
        "id": "Ta9ZtPCnKg_a",
        "outputId": "f56e9cd2-0525-4cb0-eb15-db6b658670b6"
      },
      "execution_count": 8,
      "outputs": [
        {
          "output_type": "stream",
          "name": "stdout",
          "text": [
            "+---------+-----------+\n",
            "|     Name|avg(Salary)|\n",
            "+---------+-----------+\n",
            "| Isabella|    20000.0|\n",
            "|     Noah|     3000.0|\n",
            "|    Ethan|    10000.0|\n",
            "|      Mia|     5000.0|\n",
            "|    Lukas|     4000.0|\n",
            "|   Sophie|     5000.0|\n",
            "|     Liam|    10000.0|\n",
            "|   Oliver|    10000.0|\n",
            "|     Emma|     4000.0|\n",
            "|Charlotte|     2000.0|\n",
            "+---------+-----------+\n",
            "\n"
          ]
        }
      ]
    },
    {
      "cell_type": "code",
      "source": [
        "### Groupby Departmernts  which gives maximum salary\n",
        "df_pyspark.groupBy('Departments').sum().show()"
      ],
      "metadata": {
        "colab": {
          "base_uri": "https://localhost:8080/"
        },
        "id": "7LxKERXcKmr8",
        "outputId": "bcce6b24-6260-4313-9135-6fb6b6ab7c10"
      },
      "execution_count": 9,
      "outputs": [
        {
          "output_type": "stream",
          "name": "stdout",
          "text": [
            "+------------+-----------+\n",
            "| Departments|sum(Salary)|\n",
            "+------------+-----------+\n",
            "|         IOT|      15000|\n",
            "|    Big Data|      15000|\n",
            "|Data Science|      43000|\n",
            "+------------+-----------+\n",
            "\n"
          ]
        }
      ]
    },
    {
      "cell_type": "code",
      "source": [
        "df_pyspark.groupBy('Departments').mean().show()\n"
      ],
      "metadata": {
        "colab": {
          "base_uri": "https://localhost:8080/"
        },
        "id": "19Ehp7xvKn07",
        "outputId": "2ca60024-f25c-4229-b9a0-f83a31b60db6"
      },
      "execution_count": 10,
      "outputs": [
        {
          "output_type": "stream",
          "name": "stdout",
          "text": [
            "+------------+-----------+\n",
            "| Departments|avg(Salary)|\n",
            "+------------+-----------+\n",
            "|         IOT|     7500.0|\n",
            "|    Big Data|     3750.0|\n",
            "|Data Science|    10750.0|\n",
            "+------------+-----------+\n",
            "\n"
          ]
        }
      ]
    },
    {
      "cell_type": "code",
      "source": [
        "df_pyspark.groupBy('Departments').count().show()\n"
      ],
      "metadata": {
        "colab": {
          "base_uri": "https://localhost:8080/"
        },
        "id": "avYDV1OxKwNK",
        "outputId": "fb7c506f-b1c0-4f88-e72a-317118cfa28e"
      },
      "execution_count": 11,
      "outputs": [
        {
          "output_type": "stream",
          "name": "stdout",
          "text": [
            "+------------+-----+\n",
            "| Departments|count|\n",
            "+------------+-----+\n",
            "|         IOT|    2|\n",
            "|    Big Data|    4|\n",
            "|Data Science|    4|\n",
            "+------------+-----+\n",
            "\n"
          ]
        }
      ]
    },
    {
      "cell_type": "code",
      "source": [
        "df_pyspark.agg({'Salary':'sum'}).show()\n"
      ],
      "metadata": {
        "colab": {
          "base_uri": "https://localhost:8080/"
        },
        "id": "ZyFD_vgnKyvq",
        "outputId": "0d296097-a7a0-430a-efce-56086daddb6a"
      },
      "execution_count": 12,
      "outputs": [
        {
          "output_type": "stream",
          "name": "stdout",
          "text": [
            "+-----------+\n",
            "|sum(Salary)|\n",
            "+-----------+\n",
            "|      73000|\n",
            "+-----------+\n",
            "\n"
          ]
        }
      ]
    }
  ]
}