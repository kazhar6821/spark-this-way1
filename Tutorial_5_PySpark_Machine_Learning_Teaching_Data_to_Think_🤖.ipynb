{
  "nbformat": 4,
  "nbformat_minor": 0,
  "metadata": {
    "colab": {
      "provenance": [],
      "authorship_tag": "ABX9TyPJTXDyrDwyjixXH4LYQqRI",
      "include_colab_link": true
    },
    "kernelspec": {
      "name": "python3",
      "display_name": "Python 3"
    },
    "language_info": {
      "name": "python"
    }
  },
  "cells": [
    {
      "cell_type": "markdown",
      "metadata": {
        "id": "view-in-github",
        "colab_type": "text"
      },
      "source": [
        "<a href=\"https://colab.research.google.com/github/kazhar6821/spark-this-way1/blob/main/Tutorial_5_PySpark_Machine_Learning_Teaching_Data_to_Think_%F0%9F%A4%96.ipynb\" target=\"_parent\"><img src=\"https://colab.research.google.com/assets/colab-badge.svg\" alt=\"Open In Colab\"/></a>"
      ]
    },
    {
      "cell_type": "code",
      "execution_count": 1,
      "metadata": {
        "id": "waDCAQSPMIy8"
      },
      "outputs": [],
      "source": [
        "from pyspark.sql import SparkSession\n",
        "spark=SparkSession.builder.appName('Missing').getOrCreate()"
      ]
    },
    {
      "cell_type": "code",
      "source": [
        "## Read The dataset\n",
        "training = spark.read.csv('test1.csv',header=True,inferSchema=True)"
      ],
      "metadata": {
        "id": "ftWDwAx8MsH4"
      },
      "execution_count": 2,
      "outputs": []
    },
    {
      "cell_type": "code",
      "source": [
        "training.show()\n"
      ],
      "metadata": {
        "colab": {
          "base_uri": "https://localhost:8080/"
        },
        "id": "_aEsWNPaMvyJ",
        "outputId": "a6ef8f65-2811-4937-e2e0-8d830aafa4b7"
      },
      "execution_count": 3,
      "outputs": [
        {
          "output_type": "stream",
          "name": "stdout",
          "text": [
            "+-------------+---+----------+------+\n",
            "|         Name|Age|Experience|Salary|\n",
            "+-------------+---+----------+------+\n",
            "|     John Doe| 28|         5| 60000|\n",
            "|   Jane Smith| 32|         8| 75000|\n",
            "| Mike Johnson| 24|         2| 45000|\n",
            "|    Sarah Lee| 29|         4| 55000|\n",
            "|  David Brown| 35|        10| 90000|\n",
            "|  Emily Davis| 27|         3| 50000|\n",
            "|Robert Taylor| 40|        15|110000|\n",
            "+-------------+---+----------+------+\n",
            "\n"
          ]
        }
      ]
    },
    {
      "cell_type": "code",
      "source": [
        "training.printSchema()\n"
      ],
      "metadata": {
        "colab": {
          "base_uri": "https://localhost:8080/"
        },
        "id": "wxscRS6LM1xl",
        "outputId": "ec0c9fdc-26c7-448c-82b1-7c74bf3d03fb"
      },
      "execution_count": 4,
      "outputs": [
        {
          "output_type": "stream",
          "name": "stdout",
          "text": [
            "root\n",
            " |-- Name: string (nullable = true)\n",
            " |-- Age: integer (nullable = true)\n",
            " |-- Experience: integer (nullable = true)\n",
            " |-- Salary: integer (nullable = true)\n",
            "\n"
          ]
        }
      ]
    },
    {
      "cell_type": "code",
      "source": [
        "training.columns\n"
      ],
      "metadata": {
        "colab": {
          "base_uri": "https://localhost:8080/"
        },
        "id": "R3kBg7xEM2jC",
        "outputId": "705999d2-94cd-42e6-e59e-13120fdd9813"
      },
      "execution_count": 5,
      "outputs": [
        {
          "output_type": "execute_result",
          "data": {
            "text/plain": [
              "['Name', 'Age', 'Experience', 'Salary']"
            ]
          },
          "metadata": {},
          "execution_count": 5
        }
      ]
    },
    {
      "cell_type": "code",
      "source": [
        "from pyspark.ml.feature import VectorAssembler\n",
        "\n",
        "featureassembler = VectorAssembler(\n",
        "    inputCols=[\"Age\", \"Experience\", \"Salary\"],\n",
        "    outputCol=\"features\"\n",
        ")\n"
      ],
      "metadata": {
        "id": "GmqFsBsSM4gC"
      },
      "execution_count": 13,
      "outputs": []
    },
    {
      "cell_type": "code",
      "source": [
        "output = featureassembler.transform(training)\n",
        "output.show()"
      ],
      "metadata": {
        "colab": {
          "base_uri": "https://localhost:8080/"
        },
        "id": "AQoMgR8eNAsT",
        "outputId": "8d72df07-1fe3-444f-8515-a25f7ffbf91d"
      },
      "execution_count": 14,
      "outputs": [
        {
          "output_type": "stream",
          "name": "stdout",
          "text": [
            "+-------------+---+----------+------+--------------------+\n",
            "|         Name|Age|Experience|Salary|            features|\n",
            "+-------------+---+----------+------+--------------------+\n",
            "|     John Doe| 28|         5| 60000|  [28.0,5.0,60000.0]|\n",
            "|   Jane Smith| 32|         8| 75000|  [32.0,8.0,75000.0]|\n",
            "| Mike Johnson| 24|         2| 45000|  [24.0,2.0,45000.0]|\n",
            "|    Sarah Lee| 29|         4| 55000|  [29.0,4.0,55000.0]|\n",
            "|  David Brown| 35|        10| 90000| [35.0,10.0,90000.0]|\n",
            "|  Emily Davis| 27|         3| 50000|  [27.0,3.0,50000.0]|\n",
            "|Robert Taylor| 40|        15|110000|[40.0,15.0,110000.0]|\n",
            "+-------------+---+----------+------+--------------------+\n",
            "\n"
          ]
        }
      ]
    },
    {
      "cell_type": "code",
      "source": [
        "output.columns\n"
      ],
      "metadata": {
        "colab": {
          "base_uri": "https://localhost:8080/"
        },
        "id": "5tMCPG9SN07J",
        "outputId": "b1bfe5bd-7861-4bde-f764-eb2a2712fab8"
      },
      "execution_count": 15,
      "outputs": [
        {
          "output_type": "execute_result",
          "data": {
            "text/plain": [
              "['Name', 'Age', 'Experience', 'Salary', 'features']"
            ]
          },
          "metadata": {},
          "execution_count": 15
        }
      ]
    },
    {
      "cell_type": "code",
      "source": [
        "finalized_data = output.select(\"features\", \"Salary\")\n",
        "finalized_data.show()\n",
        "\n"
      ],
      "metadata": {
        "colab": {
          "base_uri": "https://localhost:8080/"
        },
        "id": "RC_KvALXN3Ee",
        "outputId": "27a0da9e-ef73-40a3-8b1f-718491d718af"
      },
      "execution_count": 18,
      "outputs": [
        {
          "output_type": "stream",
          "name": "stdout",
          "text": [
            "+--------------------+------+\n",
            "|            features|Salary|\n",
            "+--------------------+------+\n",
            "|  [28.0,5.0,60000.0]| 60000|\n",
            "|  [32.0,8.0,75000.0]| 75000|\n",
            "|  [24.0,2.0,45000.0]| 45000|\n",
            "|  [29.0,4.0,55000.0]| 55000|\n",
            "| [35.0,10.0,90000.0]| 90000|\n",
            "|  [27.0,3.0,50000.0]| 50000|\n",
            "|[40.0,15.0,110000.0]|110000|\n",
            "+--------------------+------+\n",
            "\n"
          ]
        }
      ]
    },
    {
      "cell_type": "code",
      "source": [
        "from pyspark.ml.regression import LinearRegression\n",
        "\n",
        "train_data, test_data = finalized_data.randomSplit([0.75, 0.25])\n",
        "regressor = LinearRegression(featuresCol=\"features\", labelCol=\"Salary\")\n",
        "regressor = regressor.fit(train_data)\n",
        "\n",
        "\n",
        "\n"
      ],
      "metadata": {
        "id": "GvUo1pevOGM6"
      },
      "execution_count": 33,
      "outputs": []
    },
    {
      "cell_type": "code",
      "source": [
        "### Coefficients\n",
        "regressor.coefficients"
      ],
      "metadata": {
        "colab": {
          "base_uri": "https://localhost:8080/"
        },
        "id": "svFPe8TvPgGP",
        "outputId": "c895d0bb-a5b0-474e-e06d-7596152e8850"
      },
      "execution_count": 35,
      "outputs": [
        {
          "output_type": "execute_result",
          "data": {
            "text/plain": [
              "DenseVector([674.7405, 2698.9619, 0.3927])"
            ]
          },
          "metadata": {},
          "execution_count": 35
        }
      ]
    },
    {
      "cell_type": "code",
      "source": [
        "### Intercepts\n",
        "regressor.intercept\n"
      ],
      "metadata": {
        "colab": {
          "base_uri": "https://localhost:8080/"
        },
        "id": "-KC1M01gOtcf",
        "outputId": "68129ed0-2f87-4ed5-f956-013e23ff2255"
      },
      "execution_count": 34,
      "outputs": [
        {
          "output_type": "execute_result",
          "data": {
            "text/plain": [
              "4048.4429069988855"
            ]
          },
          "metadata": {},
          "execution_count": 34
        }
      ]
    },
    {
      "cell_type": "code",
      "source": [
        "### Prediction\n",
        "pred_results=regressor.evaluate(test_data)"
      ],
      "metadata": {
        "id": "uHtGn_PpPl_t"
      },
      "execution_count": 36,
      "outputs": []
    },
    {
      "cell_type": "code",
      "source": [
        "pred_results.predictions.show()\n"
      ],
      "metadata": {
        "colab": {
          "base_uri": "https://localhost:8080/"
        },
        "id": "Md4sYUetPoTU",
        "outputId": "d0a6499b-067b-4e98-ff37-3942e48c6342"
      },
      "execution_count": 37,
      "outputs": [
        {
          "output_type": "stream",
          "name": "stdout",
          "text": [
            "+--------------------+------+-----------------+\n",
            "|            features|Salary|       prediction|\n",
            "+--------------------+------+-----------------+\n",
            "|  [24.0,2.0,45000.0]| 45000|43313.14878905028|\n",
            "|  [29.0,4.0,55000.0]| 55000|56012.11072668954|\n",
            "|  [32.0,8.0,75000.0]| 75000| 76686.8512110242|\n",
            "|[40.0,15.0,110000.0]|110000|114723.1833907664|\n",
            "+--------------------+------+-----------------+\n",
            "\n"
          ]
        }
      ]
    },
    {
      "cell_type": "code",
      "source": [
        "pred_results.meanAbsoluteError,pred_results.meanSquaredError\n"
      ],
      "metadata": {
        "colab": {
          "base_uri": "https://localhost:8080/"
        },
        "id": "ug-rju3lPr2g",
        "outputId": "dbc0810d-f6a4-4071-fc1e-e8a1e77f2ba8"
      },
      "execution_count": 38,
      "outputs": [
        {
          "output_type": "execute_result",
          "data": {
            "text/plain": [
              "(2277.249134857464, 7255940.8704769835)"
            ]
          },
          "metadata": {},
          "execution_count": 38
        }
      ]
    }
  ]
}