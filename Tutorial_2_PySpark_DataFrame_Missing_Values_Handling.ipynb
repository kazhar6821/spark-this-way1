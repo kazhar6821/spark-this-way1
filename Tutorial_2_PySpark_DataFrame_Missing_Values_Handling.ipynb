{
  "nbformat": 4,
  "nbformat_minor": 0,
  "metadata": {
    "colab": {
      "provenance": [],
      "authorship_tag": "ABX9TyOjB18cInwMUaiWbOxdkiMF",
      "include_colab_link": true
    },
    "kernelspec": {
      "name": "python3",
      "display_name": "Python 3"
    },
    "language_info": {
      "name": "python"
    }
  },
  "cells": [
    {
      "cell_type": "markdown",
      "metadata": {
        "id": "view-in-github",
        "colab_type": "text"
      },
      "source": [
        "<a href=\"https://colab.research.google.com/github/kazhar6821/spark-this-way1/blob/main/Tutorial_2_PySpark_DataFrame_Missing_Values_Handling.ipynb\" target=\"_parent\"><img src=\"https://colab.research.google.com/assets/colab-badge.svg\" alt=\"Open In Colab\"/></a>"
      ]
    },
    {
      "cell_type": "code",
      "execution_count": null,
      "metadata": {
        "id": "ngitKp6PKjHv"
      },
      "outputs": [],
      "source": [
        "from pyspark.sql import SparkSession\n",
        "spark=SparkSession.builder.appName('Practise').getOrCreate()"
      ]
    },
    {
      "cell_type": "code",
      "source": [
        "df_pyspark=spark.read.csv('test2.csv',header=True,inferSchema=True)\n"
      ],
      "metadata": {
        "id": "-adYtgThRKxU"
      },
      "execution_count": null,
      "outputs": []
    },
    {
      "cell_type": "code",
      "source": [
        "df_pyspark.printSchema()\n"
      ],
      "metadata": {
        "colab": {
          "base_uri": "https://localhost:8080/"
        },
        "id": "pxC9P8p9RQmQ",
        "outputId": "599f068d-5e98-4d50-f28f-b8706c0b1c52"
      },
      "execution_count": null,
      "outputs": [
        {
          "output_type": "stream",
          "name": "stdout",
          "text": [
            "root\n",
            " |-- Name: string (nullable = true)\n",
            " |-- Age: integer (nullable = true)\n",
            " |-- Experience: integer (nullable = true)\n",
            " |-- Salary: integer (nullable = true)\n",
            "\n"
          ]
        }
      ]
    },
    {
      "cell_type": "code",
      "source": [
        "df_pyspark.show()\n"
      ],
      "metadata": {
        "colab": {
          "base_uri": "https://localhost:8080/"
        },
        "id": "bkQoEAQaRYSR",
        "outputId": "dd5b46ad-1fb3-4b5c-b37c-6ddedd41d0ce"
      },
      "execution_count": null,
      "outputs": [
        {
          "output_type": "stream",
          "name": "stdout",
          "text": [
            "+-----+----+----------+------+\n",
            "| Name| Age|Experience|Salary|\n",
            "+-----+----+----------+------+\n",
            "| koko|  31|        10| 30000|\n",
            "| laby|  30|         8| 25000|\n",
            "| naks|  29|         4| 20000|\n",
            "| fush|  24|         3| 20000|\n",
            "| haki|  21|         1| 15000|\n",
            "|bytrt|  23|         2| 18000|\n",
            "|sotks|NULL|      NULL| 40000|\n",
            "| NULL|  34|        10| 38000|\n",
            "| NULL|  36|      NULL|  NULL|\n",
            "+-----+----+----------+------+\n",
            "\n"
          ]
        }
      ]
    },
    {
      "cell_type": "code",
      "source": [
        "##drop the columns\n",
        "df_pyspark.drop('Name').show()"
      ],
      "metadata": {
        "colab": {
          "base_uri": "https://localhost:8080/"
        },
        "id": "AAmvpb5WSC-k",
        "outputId": "7dd4cedb-a54c-46d6-84fd-2f395eee7fb4"
      },
      "execution_count": null,
      "outputs": [
        {
          "output_type": "stream",
          "name": "stdout",
          "text": [
            "+----+----------+------+\n",
            "| Age|Experience|Salary|\n",
            "+----+----------+------+\n",
            "|  31|        10| 30000|\n",
            "|  30|         8| 25000|\n",
            "|  29|         4| 20000|\n",
            "|  24|         3| 20000|\n",
            "|  21|         1| 15000|\n",
            "|  23|         2| 18000|\n",
            "|NULL|      NULL| 40000|\n",
            "|  34|        10| 38000|\n",
            "|  36|      NULL|  NULL|\n",
            "+----+----------+------+\n",
            "\n"
          ]
        }
      ]
    },
    {
      "cell_type": "code",
      "source": [
        "df_pyspark.show()"
      ],
      "metadata": {
        "colab": {
          "base_uri": "https://localhost:8080/"
        },
        "id": "NLuG8LswSD0J",
        "outputId": "b7a288c7-cecf-4624-ff8e-87570e60a766"
      },
      "execution_count": null,
      "outputs": [
        {
          "output_type": "stream",
          "name": "stdout",
          "text": [
            "+-----+----+----------+------+\n",
            "| Name| Age|Experience|Salary|\n",
            "+-----+----+----------+------+\n",
            "| koko|  31|        10| 30000|\n",
            "| laby|  30|         8| 25000|\n",
            "| naks|  29|         4| 20000|\n",
            "| fush|  24|         3| 20000|\n",
            "| haki|  21|         1| 15000|\n",
            "|bytrt|  23|         2| 18000|\n",
            "|sotks|NULL|      NULL| 40000|\n",
            "| NULL|  34|        10| 38000|\n",
            "| NULL|  36|      NULL|  NULL|\n",
            "+-----+----+----------+------+\n",
            "\n"
          ]
        }
      ]
    },
    {
      "cell_type": "code",
      "source": [
        "df_pyspark.na.drop().show()\n"
      ],
      "metadata": {
        "colab": {
          "base_uri": "https://localhost:8080/"
        },
        "id": "His4ZyQCSGyo",
        "outputId": "8ba148e4-0d5a-4fd9-cb26-d1b3ac2b1c45"
      },
      "execution_count": null,
      "outputs": [
        {
          "output_type": "stream",
          "name": "stdout",
          "text": [
            "+-----+---+----------+------+\n",
            "| Name|Age|Experience|Salary|\n",
            "+-----+---+----------+------+\n",
            "| koko| 31|        10| 30000|\n",
            "| laby| 30|         8| 25000|\n",
            "| naks| 29|         4| 20000|\n",
            "| fush| 24|         3| 20000|\n",
            "| haki| 21|         1| 15000|\n",
            "|bytrt| 23|         2| 18000|\n",
            "+-----+---+----------+------+\n",
            "\n"
          ]
        }
      ]
    },
    {
      "cell_type": "code",
      "source": [
        "df_pyspark.na.drop(how=\"any\").show()"
      ],
      "metadata": {
        "colab": {
          "base_uri": "https://localhost:8080/"
        },
        "id": "vomGHLP0TdUW",
        "outputId": "8d1862b8-ea64-404b-8a9e-2cb4ce8a1403"
      },
      "execution_count": null,
      "outputs": [
        {
          "output_type": "stream",
          "name": "stdout",
          "text": [
            "+-----+---+----------+------+\n",
            "| Name|Age|Experience|Salary|\n",
            "+-----+---+----------+------+\n",
            "| koko| 31|        10| 30000|\n",
            "| laby| 30|         8| 25000|\n",
            "| naks| 29|         4| 20000|\n",
            "| fush| 24|         3| 20000|\n",
            "| haki| 21|         1| 15000|\n",
            "|bytrt| 23|         2| 18000|\n",
            "+-----+---+----------+------+\n",
            "\n"
          ]
        }
      ]
    },
    {
      "cell_type": "code",
      "source": [
        "df_pyspark.na.drop(how=\"any\",thresh=3).show()"
      ],
      "metadata": {
        "colab": {
          "base_uri": "https://localhost:8080/"
        },
        "id": "TfBON4jCTsqc",
        "outputId": "f63d00c6-05ab-4881-ab7a-f35f3010d5fb"
      },
      "execution_count": null,
      "outputs": [
        {
          "output_type": "stream",
          "name": "stdout",
          "text": [
            "+-----+---+----------+------+\n",
            "| Name|Age|Experience|Salary|\n",
            "+-----+---+----------+------+\n",
            "| koko| 31|        10| 30000|\n",
            "| laby| 30|         8| 25000|\n",
            "| naks| 29|         4| 20000|\n",
            "| fush| 24|         3| 20000|\n",
            "| haki| 21|         1| 15000|\n",
            "|bytrt| 23|         2| 18000|\n",
            "| NULL| 34|        10| 38000|\n",
            "+-----+---+----------+------+\n",
            "\n"
          ]
        }
      ]
    },
    {
      "cell_type": "code",
      "source": [
        "##Subset\n",
        "df_pyspark.na.drop(how=\"any\",subset=['Age']).show()"
      ],
      "metadata": {
        "colab": {
          "base_uri": "https://localhost:8080/"
        },
        "id": "xdjblII-Uz65",
        "outputId": "b6e61b21-73f4-4b66-d2a3-6116d97b905e"
      },
      "execution_count": null,
      "outputs": [
        {
          "output_type": "stream",
          "name": "stdout",
          "text": [
            "+-----+---+----------+------+\n",
            "| Name|Age|Experience|Salary|\n",
            "+-----+---+----------+------+\n",
            "| koko| 31|        10| 30000|\n",
            "| laby| 30|         8| 25000|\n",
            "| naks| 29|         4| 20000|\n",
            "| fush| 24|         3| 20000|\n",
            "| haki| 21|         1| 15000|\n",
            "|bytrt| 23|         2| 18000|\n",
            "| NULL| 34|        10| 38000|\n",
            "| NULL| 36|      NULL|  NULL|\n",
            "+-----+---+----------+------+\n",
            "\n"
          ]
        }
      ]
    },
    {
      "cell_type": "code",
      "source": [
        "from pyspark.sql.functions import col\n",
        "\n",
        "df_pyspark = df_pyspark.withColumn('age', col('age').cast('string'))\n",
        "df_pyspark = df_pyspark.withColumn('Experience', col('Experience').cast('string'))\n",
        "df_pyspark = df_pyspark.na.fill({'Experience': 'Missing Values', 'age': 'Missing Values'})\n",
        "df_pyspark.show()\n"
      ],
      "metadata": {
        "colab": {
          "base_uri": "https://localhost:8080/"
        },
        "id": "e_7sYd55XK-i",
        "outputId": "f6df5207-92f8-4e4d-8fca-4dfc99b377ea"
      },
      "execution_count": null,
      "outputs": [
        {
          "output_type": "stream",
          "name": "stdout",
          "text": [
            "+-----+--------------+--------------+------+\n",
            "| Name|           age|    Experience|Salary|\n",
            "+-----+--------------+--------------+------+\n",
            "| koko|            31|            10| 30000|\n",
            "| laby|            30|             8| 25000|\n",
            "| naks|            29|             4| 20000|\n",
            "| fush|            24|             3| 20000|\n",
            "| haki|            21|             1| 15000|\n",
            "|bytrt|            23|             2| 18000|\n",
            "|sotks|Missing Values|Missing Values| 40000|\n",
            "| NULL|            34|            10| 38000|\n",
            "| NULL|            36|Missing Values|  NULL|\n",
            "+-----+--------------+--------------+------+\n",
            "\n"
          ]
        }
      ]
    },
    {
      "cell_type": "code",
      "source": [
        "df_pyspark.show()\n"
      ],
      "metadata": {
        "colab": {
          "base_uri": "https://localhost:8080/"
        },
        "id": "CiCRPgT_Z2iu",
        "outputId": "a8dfbc4f-f671-48a6-ec9f-d26e982fdd19"
      },
      "execution_count": null,
      "outputs": [
        {
          "output_type": "stream",
          "name": "stdout",
          "text": [
            "+-----+--------------+--------------+------+\n",
            "| Name|           age|    Experience|Salary|\n",
            "+-----+--------------+--------------+------+\n",
            "| koko|            31|            10| 30000|\n",
            "| laby|            30|             8| 25000|\n",
            "| naks|            29|             4| 20000|\n",
            "| fush|            24|             3| 20000|\n",
            "| haki|            21|             1| 15000|\n",
            "|bytrt|            23|             2| 18000|\n",
            "|sotks|Missing Values|Missing Values| 40000|\n",
            "| NULL|            34|            10| 38000|\n",
            "| NULL|            36|Missing Values|  NULL|\n",
            "+-----+--------------+--------------+------+\n",
            "\n"
          ]
        }
      ]
    },
    {
      "cell_type": "code",
      "source": [
        "df_pyspark.printSchema()\n"
      ],
      "metadata": {
        "colab": {
          "base_uri": "https://localhost:8080/"
        },
        "id": "k5_5ElNnaQTj",
        "outputId": "f26dbacc-393c-4084-a4c7-a9024478470b"
      },
      "execution_count": null,
      "outputs": [
        {
          "output_type": "stream",
          "name": "stdout",
          "text": [
            "root\n",
            " |-- Name: string (nullable = true)\n",
            " |-- age: string (nullable = false)\n",
            " |-- Experience: string (nullable = false)\n",
            " |-- Salary: integer (nullable = true)\n",
            "\n"
          ]
        }
      ]
    },
    {
      "cell_type": "code",
      "source": [
        "from pyspark.sql.functions import col\n",
        "\n",
        "df_pyspark = df_pyspark.withColumn('Experience', col('Experience').cast('double'))\n",
        "\n"
      ],
      "metadata": {
        "id": "4aPHxH1GaSHY"
      },
      "execution_count": null,
      "outputs": []
    },
    {
      "cell_type": "code",
      "source": [
        "from pyspark.ml.feature import Imputer\n",
        "\n",
        "imputer = Imputer(\n",
        "    inputCols=['Experience', 'Salary'],\n",
        "    outputCols=['Experience_imputed', 'Salary_imputed']\n",
        ").setStrategy(\"mean\")\n",
        "\n",
        "df_pyspark = imputer.fit(df_pyspark).transform(df_pyspark)\n",
        "df_pyspark.show()\n"
      ],
      "metadata": {
        "colab": {
          "base_uri": "https://localhost:8080/"
        },
        "id": "It1qBF4PaXrg",
        "outputId": "765c0298-b8cc-43f2-aabb-9d4ab74f3149"
      },
      "execution_count": null,
      "outputs": [
        {
          "output_type": "stream",
          "name": "stdout",
          "text": [
            "+-----+--------------+----------+------+------------------+--------------+\n",
            "| Name|           age|Experience|Salary|Experience_imputed|Salary_imputed|\n",
            "+-----+--------------+----------+------+------------------+--------------+\n",
            "| koko|            31|      10.0| 30000|              10.0|         30000|\n",
            "| laby|            30|       8.0| 25000|               8.0|         25000|\n",
            "| naks|            29|       4.0| 20000|               4.0|         20000|\n",
            "| fush|            24|       3.0| 20000|               3.0|         20000|\n",
            "| haki|            21|       1.0| 15000|               1.0|         15000|\n",
            "|bytrt|            23|       2.0| 18000|               2.0|         18000|\n",
            "|sotks|Missing Values|      NULL| 40000| 5.428571428571429|         40000|\n",
            "| NULL|            34|      10.0| 38000|              10.0|         38000|\n",
            "| NULL|            36|      NULL|  NULL| 5.428571428571429|         25750|\n",
            "+-----+--------------+----------+------+------------------+--------------+\n",
            "\n"
          ]
        }
      ]
    }
  ]
}