{
  "nbformat": 4,
  "nbformat_minor": 0,
  "metadata": {
    "colab": {
      "provenance": [],
      "authorship_tag": "ABX9TyN17Q5B0jWDoOVhjGDpgQT7",
      "include_colab_link": true
    },
    "kernelspec": {
      "name": "python3",
      "display_name": "Python 3"
    },
    "language_info": {
      "name": "python"
    }
  },
  "cells": [
    {
      "cell_type": "markdown",
      "metadata": {
        "id": "view-in-github",
        "colab_type": "text"
      },
      "source": [
        "<a href=\"https://colab.research.google.com/github/kazhar6821/spark-this-way1/blob/main/Tutorial_3_PySpark_DataFrames_Filter_Operations.ipynb\" target=\"_parent\"><img src=\"https://colab.research.google.com/assets/colab-badge.svg\" alt=\"Open In Colab\"/></a>"
      ]
    },
    {
      "cell_type": "code",
      "execution_count": null,
      "metadata": {
        "id": "jIHXiJYpeUdY"
      },
      "outputs": [],
      "source": [
        "from pyspark.sql import SparkSession\n"
      ]
    },
    {
      "cell_type": "code",
      "source": [
        "spark=SparkSession.builder.appName('dataframe').getOrCreate()\n"
      ],
      "metadata": {
        "id": "-l76HvAcek0M"
      },
      "execution_count": null,
      "outputs": []
    },
    {
      "cell_type": "code",
      "source": [
        "df_pyspark=spark.read.csv('test1.csv',header=True,inferSchema=True)\n",
        "df_pyspark.show()"
      ],
      "metadata": {
        "colab": {
          "base_uri": "https://localhost:8080/"
        },
        "id": "JNj3DtA9etJ4",
        "outputId": "10fb98d9-12b6-491d-9959-b780da4347ca"
      },
      "execution_count": null,
      "outputs": [
        {
          "output_type": "stream",
          "name": "stdout",
          "text": [
            "+-------------+---+----------+------+\n",
            "|         Name|Age|Experience|Salary|\n",
            "+-------------+---+----------+------+\n",
            "|     John Doe| 28|         5| 60000|\n",
            "|   Jane Smith| 32|         8| 75000|\n",
            "| Mike Johnson| 24|         2| 45000|\n",
            "|    Sarah Lee| 29|         4| 55000|\n",
            "|  David Brown| 35|        10| 90000|\n",
            "|  Emily Davis| 27|         3| 50000|\n",
            "|Robert Taylor| 40|        15|110000|\n",
            "+-------------+---+----------+------+\n",
            "\n"
          ]
        }
      ]
    },
    {
      "cell_type": "code",
      "source": [
        "### Salary of the people less than or equal to 20000\n",
        "df_pyspark.filter(\"Salary<=50000\").show()\n"
      ],
      "metadata": {
        "colab": {
          "base_uri": "https://localhost:8080/"
        },
        "id": "VIoHsUiEiFeV",
        "outputId": "654ed8c1-8c3f-4761-ecdd-3ce5d75f0a1f"
      },
      "execution_count": null,
      "outputs": [
        {
          "output_type": "stream",
          "name": "stdout",
          "text": [
            "+------------+---+----------+------+\n",
            "|        Name|Age|Experience|Salary|\n",
            "+------------+---+----------+------+\n",
            "|Mike Johnson| 24|         2| 45000|\n",
            "| Emily Davis| 27|         3| 50000|\n",
            "+------------+---+----------+------+\n",
            "\n"
          ]
        }
      ]
    },
    {
      "cell_type": "code",
      "source": [
        "df_pyspark.filter(\"Salary<=50000\").select(['Name','age']).show()\n"
      ],
      "metadata": {
        "colab": {
          "base_uri": "https://localhost:8080/"
        },
        "id": "CR-kXO-W3eK9",
        "outputId": "6f020dcb-eb56-4f43-9385-96043af10a2c"
      },
      "execution_count": null,
      "outputs": [
        {
          "output_type": "stream",
          "name": "stdout",
          "text": [
            "+------------+---+\n",
            "|        Name|age|\n",
            "+------------+---+\n",
            "|Mike Johnson| 24|\n",
            "| Emily Davis| 27|\n",
            "+------------+---+\n",
            "\n"
          ]
        }
      ]
    },
    {
      "cell_type": "code",
      "source": [
        "df_pyspark.filter(df_pyspark['Salary']<=50000).show()\n"
      ],
      "metadata": {
        "colab": {
          "base_uri": "https://localhost:8080/"
        },
        "id": "PKE6movC3l4G",
        "outputId": "97281346-7bb1-454c-da3e-880d42ed51c4"
      },
      "execution_count": null,
      "outputs": [
        {
          "output_type": "stream",
          "name": "stdout",
          "text": [
            "+------------+---+----------+------+\n",
            "|        Name|Age|Experience|Salary|\n",
            "+------------+---+----------+------+\n",
            "|Mike Johnson| 24|         2| 45000|\n",
            "| Emily Davis| 27|         3| 50000|\n",
            "+------------+---+----------+------+\n",
            "\n"
          ]
        }
      ]
    },
    {
      "cell_type": "code",
      "source": [
        "df_pyspark.filter((df_pyspark['Salary']<=50000) |\n",
        "                  (df_pyspark['Salary']>=203000)).show()"
      ],
      "metadata": {
        "colab": {
          "base_uri": "https://localhost:8080/"
        },
        "id": "etu4FydJ3s4w",
        "outputId": "d5074f2f-d49c-456d-eb88-390c92cc8191"
      },
      "execution_count": null,
      "outputs": [
        {
          "output_type": "stream",
          "name": "stdout",
          "text": [
            "+------------+---+----------+------+\n",
            "|        Name|Age|Experience|Salary|\n",
            "+------------+---+----------+------+\n",
            "|Mike Johnson| 24|         2| 45000|\n",
            "| Emily Davis| 27|         3| 50000|\n",
            "+------------+---+----------+------+\n",
            "\n"
          ]
        }
      ]
    },
    {
      "cell_type": "code",
      "source": [
        "df_pyspark.filter(~(df_pyspark['Salary']<=50000)).show()\n"
      ],
      "metadata": {
        "colab": {
          "base_uri": "https://localhost:8080/"
        },
        "id": "-8lVJI0933YL",
        "outputId": "8d98c6b7-3209-48d2-ec44-4c8989da4150"
      },
      "execution_count": null,
      "outputs": [
        {
          "output_type": "stream",
          "name": "stdout",
          "text": [
            "+-------------+---+----------+------+\n",
            "|         Name|Age|Experience|Salary|\n",
            "+-------------+---+----------+------+\n",
            "|     John Doe| 28|         5| 60000|\n",
            "|   Jane Smith| 32|         8| 75000|\n",
            "|    Sarah Lee| 29|         4| 55000|\n",
            "|  David Brown| 35|        10| 90000|\n",
            "|Robert Taylor| 40|        15|110000|\n",
            "+-------------+---+----------+------+\n",
            "\n"
          ]
        }
      ]
    }
  ]
}